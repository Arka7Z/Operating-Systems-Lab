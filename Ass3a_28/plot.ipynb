{
 "cells": [
  {
   "cell_type": "code",
   "execution_count": 1,
   "metadata": {
    "collapsed": true
   },
   "outputs": [],
   "source": [
    "import matplotlib.pyplot as plt\n"
   ]
  },
  {
   "cell_type": "code",
   "execution_count": 6,
   "metadata": {},
   "outputs": [
    {
     "data": {
      "image/png": "[encoded data removed]",
      "text/plain": [
       "<matplotlib.figure.Figure at 0x7f36af2dec50>"
      ]
     },
     "metadata": {},
     "output_type": "display_data"
    }
   ],
   "source": [
    "N=[10,50,100]\n",
    "fcfs=[61.6,53.86,52.59]\n",
    "sjf=[43.8,33.76,32.34]\n",
    "rr_one=[76.8,66.1,64.46]\n",
    "rr_two=[76.9,65.58,64.06]\n",
    "rr_five=[76.1,64.32,62.14]\n",
    "plt.plot(N,fcfs, 'ys', N, sjf, 'bs', N, rr_one, 'g^',N,rr_two,'ro',N,rr_five,'b^')\n",
    "plt.xlabel('Number of Process')\n",
    "plt.ylabel('Average Turnaround time')\n",
    "plt.show()"
   ]
  },
  {
   "cell_type": "code",
   "execution_count": null,
   "metadata": {
    "collapsed": true
   },
   "outputs": [],
   "source": []
  }
 ],
 "metadata": {
  "kernelspec": {
   "display_name": "Python 2",
   "language": "python",
   "name": "python2"
  },
  "language_info": {
   "codemirror_mode": {
    "name": "ipython",
    "version": 2
   },
   "file_extension": ".py",
   "mimetype": "text/x-python",
   "name": "python",
   "nbconvert_exporter": "python",
   "pygments_lexer": "ipython2",
   "version": "2.7.12"
  }
 },
 "nbformat": 4,
 "nbformat_minor": 2
}
